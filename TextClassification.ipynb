{
  "nbformat": 4,
  "nbformat_minor": 0,
  "metadata": {
    "colab": {
      "name": "TextClassification.ipynb",
      "version": "0.3.2",
      "provenance": [],
      "collapsed_sections": []
    },
    "kernelspec": {
      "name": "python3",
      "display_name": "Python 3"
    }
  },
  "cells": [
    {
      "cell_type": "code",
      "metadata": {
        "id": "jMxHSa1GkuB3",
        "colab_type": "code",
        "colab": {}
      },
      "source": [
        "import logging\n",
        "import pandas as pd\n",
        "import numpy as np\n",
        "from numpy import random\n",
        "import gensim\n",
        "import nltk\n",
        "from sklearn.model_selection import train_test_split\n",
        "from sklearn.feature_extraction.text import CountVectorizer, TfidfVectorizer\n",
        "from sklearn.metrics import accuracy_score, confusion_matrix\n",
        "import matplotlib.pyplot as plt\n",
        "from nltk.corpus import stopwords\n",
        "import re\n",
        "from bs4 import BeautifulSoup\n",
        "%matplotlib inline"
      ],
      "execution_count": 0,
      "outputs": []
    },
    {
      "cell_type": "markdown",
      "metadata": {
        "id": "2FZH4XwwwDQr",
        "colab_type": "text"
      },
      "source": [
        "***Exploring The data***"
      ]
    },
    {
      "cell_type": "code",
      "metadata": {
        "id": "bnn4Fz7Tt-3M",
        "colab_type": "code",
        "colab": {}
      },
      "source": [
        "df = pd.read_csv(\"stack-overflow-data.csv\")"
      ],
      "execution_count": 0,
      "outputs": []
    },
    {
      "cell_type": "code",
      "metadata": {
        "id": "XOmKolg7uM9Z",
        "colab_type": "code",
        "outputId": "70a7e0e0-b937-4121-abe3-eba317141a3f",
        "colab": {
          "base_uri": "https://localhost:8080/",
          "height": 221
        }
      },
      "source": [
        "df = df[pd.notnull(df['tags'])]\n",
        "print(df.head(10))\n",
        "print(df['post'].apply(lambda x: len(x.split(' '))).sum())"
      ],
      "execution_count": 30,
      "outputs": [
        {
          "output_type": "stream",
          "text": [
            "                                                post           tags\n",
            "0  what is causing this behavior  in our c# datet...             c#\n",
            "1  have dynamic html load as if it was in an ifra...        asp.net\n",
            "2  how to convert a float value in to min:sec  i ...    objective-c\n",
            "3  .net framework 4 redistributable  just wonderi...           .net\n",
            "4  trying to calculate and print the mean and its...         python\n",
            "5  how to give alias name for my website  i have ...        asp.net\n",
            "6  window.open() returns null in angularjs  it wo...      angularjs\n",
            "7  identifying server timeout quickly in iphone  ...         iphone\n",
            "8  unknown method key  error in rails 2.3.8 unit ...  ruby-on-rails\n",
            "9  from the include  how to show and hide the con...      angularjs\n",
            "10286120\n"
          ],
          "name": "stdout"
        }
      ]
    },
    {
      "cell_type": "code",
      "metadata": {
        "id": "0IhmcEgSud95",
        "colab_type": "code",
        "outputId": "bb03c2b4-2d7e-45c5-87c6-95de648bc71c",
        "colab": {
          "base_uri": "https://localhost:8080/",
          "height": 342
        }
      },
      "source": [
        "my_tags = ['java','html','asp.net','c#','ruby-on-rails','jquery','mysql','php','ios','javascript','python','c','css','android','iphone','sql','objective-c','c++','angularjs','.net']\n",
        "plt.figure(figsize=(10,4))\n",
        "df.tags.value_counts().plot(kind='bar');"
      ],
      "execution_count": 31,
      "outputs": [
        {
          "output_type": "display_data",
          "data": {
            "image/png": "[encoded data removed]",
            "text/plain": [
              "<Figure size 720x288 with 1 Axes>"
            ]
          },
          "metadata": {
            "tags": []
          }
        }
      ]
    },
    {
      "cell_type": "code",
      "metadata": {
        "id": "83VqlpcYuo9s",
        "colab_type": "code",
        "outputId": "d5b4338e-2b51-4550-deda-af852a7253d6",
        "colab": {
          "base_uri": "https://localhost:8080/",
          "height": 71
        }
      },
      "source": [
        "def print_plot(index):\n",
        "  example = df[df.index == index][['post', 'tags']].values[0]\n",
        "  if len(example) > 0:\n",
        "    print(example[0])\n",
        "    print('Tag:', example[1])\n",
        "\n",
        "print_plot(10)"
      ],
      "execution_count": 32,
      "outputs": [
        {
          "output_type": "stream",
          "text": [
            "when we need interface c# <blockquote>    <strong>possible duplicate:</strong><br>   <a href= https://stackoverflow.com/questions/240152/why-would-i-want-to-use-interfaces >why would i want to use interfaces </a>   <a href= https://stackoverflow.com/questions/9451868/why-i-need-interface >why i need interface </a>    </blockquote>     i want to know where and when to use it     for example    <pre><code>interface idemo {  // function prototype  public void show(); }  // first class using the interface class myclass1 : idemo {  public void show()  {   // function body comes here   response.write( i m in myclass );  }  }  // second class using the interface class myclass2 : idemo {  public void show()   {   // function body comes here   response.write( i m in myclass2 );   response.write( so  what  );  } </code></pre>   these two classes has the same function name with different body. this can be even achieved without interface. then why we need an interface where and when to use it\n",
            "Tag: c#\n"
          ],
          "name": "stdout"
        }
      ]
    },
    {
      "cell_type": "code",
      "metadata": {
        "id": "AnaHnRmzv2oc",
        "colab_type": "code",
        "outputId": "9906ca1c-f735-453d-a600-7a59ed37c6e6",
        "colab": {
          "base_uri": "https://localhost:8080/",
          "height": 71
        }
      },
      "source": [
        "print_plot(30)"
      ],
      "execution_count": 33,
      "outputs": [
        {
          "output_type": "stream",
          "text": [
            "how to chain expressions inside ngclass when using the {...}[] form  how can i add another expression to an <code>ng-class</code> directive that uses this form:   <pre><code>ng-class= {true: loading   false: loading-done }[data.loader===null]  </code></pre>   i d like to add something like this to the list:   <pre><code>{highlight:isspecial} </code></pre>   is it possible without expanding the first expression     thanks.\n",
            "Tag: angularjs\n"
          ],
          "name": "stdout"
        }
      ]
    },
    {
      "cell_type": "markdown",
      "metadata": {
        "id": "l8mnIGs2wIEb",
        "colab_type": "text"
      },
      "source": [
        "***Cleaning the data(Text Pre-processing)***"
      ]
    },
    {
      "cell_type": "code",
      "metadata": {
        "id": "p4_Ybumfv-DL",
        "colab_type": "code",
        "outputId": "0d353f7b-cffe-459c-ae54-061384ba9a96",
        "colab": {
          "base_uri": "https://localhost:8080/",
          "height": 71
        }
      },
      "source": [
        "REPLACE_BY_SPACE_RE = re.compile('[/(){}\\[\\]\\|@,;]')\n",
        "BAD_SYMBOLS_RE = re.compile('[^0-9a-z #+_]')\n",
        "STOPWORDS = set(stopwords.words('english'))\n",
        "\n",
        "def clean_text(text):\n",
        "  text = BeautifulSoup(text,\"lxml\").text #HTML Decoding\n",
        "  text = text.lower() #lowercase text\n",
        "  text = REPLACE_BY_SPACE_RE.sub(' ', text) # Replace symbols by space\n",
        "  text = BAD_SYMBOLS_RE.sub(' ', text) # Delete bad symbols\n",
        "  text = ' '.join(word for word in text.split() if word not in STOPWORDS) #Delete stopwords from text\n",
        "  return text\n",
        "\n",
        "df['post'] = df['post'].apply(clean_text)\n",
        "print_plot(10)"
      ],
      "execution_count": 36,
      "outputs": [
        {
          "output_type": "stream",
          "text": [
            "need interface c# possible duplicate would want use interfaces need interface want know use example interface idemo function prototype public void show first class using interface class myclass1 idemo public void show function body comes response write myclass second class using interface class myclass2 idemo public void show function body comes response write myclass2 response write two classes function name different body even achieved without interface need interface use\n",
            "Tag: c#\n"
          ],
          "name": "stdout"
        }
      ]
    },
    {
      "cell_type": "code",
      "metadata": {
        "id": "9JGoRz_W_7H4",
        "colab_type": "code",
        "colab": {
          "base_uri": "https://localhost:8080/",
          "height": 68
        },
        "outputId": "be8eea66-7cd5-4794-834f-25810cbf71ae"
      },
      "source": [
        "nltk.download('stopwords')"
      ],
      "execution_count": 35,
      "outputs": [
        {
          "output_type": "stream",
          "text": [
            "[nltk_data] Downloading package stopwords to /root/nltk_data...\n",
            "[nltk_data]   Unzipping corpora/stopwords.zip.\n"
          ],
          "name": "stdout"
        },
        {
          "output_type": "execute_result",
          "data": {
            "text/plain": [
              "True"
            ]
          },
          "metadata": {
            "tags": []
          },
          "execution_count": 35
        }
      ]
    },
    {
      "cell_type": "code",
      "metadata": {
        "id": "kVH21tPCz-Ug",
        "colab_type": "code",
        "outputId": "789d6214-fdbd-4224-8636-810d7c614dae",
        "colab": {
          "base_uri": "https://localhost:8080/",
          "height": 34
        }
      },
      "source": [
        "print(df['post'].apply(lambda x: len(x.split(' '))).sum())"
      ],
      "execution_count": 37,
      "outputs": [
        {
          "output_type": "stream",
          "text": [
            "3880052\n"
          ],
          "name": "stdout"
        }
      ]
    },
    {
      "cell_type": "code",
      "metadata": {
        "id": "q_0yFoZo0UoY",
        "colab_type": "code",
        "colab": {}
      },
      "source": [
        "X = df.post\n",
        "y = df.tags\n",
        "X_train, X_test, y_train, y_test = train_test_split(X, y, test_size=0.3, random_state=42)"
      ],
      "execution_count": 0,
      "outputs": []
    },
    {
      "cell_type": "code",
      "metadata": {
        "id": "_OK2uF9X1DD0",
        "colab_type": "code",
        "outputId": "2cdaf94c-3405-4b19-f053-0c6c9f9ef89a",
        "colab": {
          "base_uri": "https://localhost:8080/",
          "height": 326
        }
      },
      "source": [
        "from sklearn.naive_bayes import MultinomialNB\n",
        "from sklearn.pipeline import Pipeline\n",
        "from sklearn.feature_extraction.text import TfidfTransformer\n",
        "\n",
        "nb = Pipeline([('vect', CountVectorizer()),\n",
        "              ('tfidf', TfidfTransformer()),\n",
        "              ('clf', MultinomialNB()),\n",
        "              ])\n",
        "\n",
        "nb.fit(X_train, y_train)"
      ],
      "execution_count": 0,
      "outputs": [
        {
          "output_type": "execute_result",
          "data": {
            "text/plain": [
              "Pipeline(memory=None,\n",
              "         steps=[('vect',\n",
              "                 CountVectorizer(analyzer='word', binary=False,\n",
              "                                 decode_error='strict',\n",
              "                                 dtype=<class 'numpy.int64'>, encoding='utf-8',\n",
              "                                 input='content', lowercase=True, max_df=1.0,\n",
              "                                 max_features=None, min_df=1,\n",
              "                                 ngram_range=(1, 1), preprocessor=None,\n",
              "                                 stop_words=None, strip_accents=None,\n",
              "                                 token_pattern='(?u)\\\\b\\\\w\\\\w+\\\\b',\n",
              "                                 tokenizer=None, vocabulary=None)),\n",
              "                ('tfidf',\n",
              "                 TfidfTransformer(norm='l2', smooth_idf=True,\n",
              "                                  sublinear_tf=False, use_idf=True)),\n",
              "                ('clf',\n",
              "                 MultinomialNB(alpha=1.0, class_prior=None, fit_prior=True))],\n",
              "         verbose=False)"
            ]
          },
          "metadata": {
            "tags": []
          },
          "execution_count": 12
        }
      ]
    },
    {
      "cell_type": "code",
      "metadata": {
        "id": "mNNBUA5m2a4f",
        "colab_type": "code",
        "outputId": "3294c74a-9132-4001-80c2-ddb33bc51946",
        "colab": {
          "base_uri": "https://localhost:8080/",
          "height": 493
        }
      },
      "source": [
        "from sklearn.metrics import classification_report\n",
        "y_pred = nb.predict(X_test)\n",
        "\n",
        "print('Accuracy %s' %accuracy_score(y_pred, y_test))\n",
        "print(classification_report(y_test, y_pred, target_names=my_tags))"
      ],
      "execution_count": 0,
      "outputs": [
        {
          "output_type": "stream",
          "text": [
            "Accuracy 0.70160481444333\n",
            "               precision    recall  f1-score   support\n",
            "\n",
            "         java       0.68      0.63      0.66       223\n",
            "         html       0.92      0.85      0.88       205\n",
            "      asp.net       0.59      0.97      0.73       199\n",
            "           c#       0.79      0.69      0.74       203\n",
            "ruby-on-rails       0.81      0.75      0.78       203\n",
            "       jquery       0.68      0.57      0.62       194\n",
            "        mysql       0.67      0.79      0.72       199\n",
            "          php       0.57      0.97      0.72       180\n",
            "          ios       0.57      0.36      0.44       171\n",
            "   javascript       0.61      0.58      0.59       207\n",
            "       python       0.63      0.53      0.57       211\n",
            "            c       0.82      0.68      0.74       192\n",
            "          css       0.91      0.48      0.63       224\n",
            "      android       0.69      0.71      0.70       200\n",
            "       iphone       0.53      0.91      0.67       183\n",
            "          sql       0.69      0.65      0.67       209\n",
            "  objective-c       0.70      0.78      0.74       172\n",
            "          c++       0.80      0.90      0.84       182\n",
            "    angularjs       0.97      0.87      0.91       226\n",
            "         .net       0.74      0.41      0.53       205\n",
            "\n",
            "     accuracy                           0.70      3988\n",
            "    macro avg       0.72      0.70      0.69      3988\n",
            " weighted avg       0.72      0.70      0.70      3988\n",
            "\n"
          ],
          "name": "stdout"
        }
      ]
    },
    {
      "cell_type": "markdown",
      "metadata": {
        "id": "NXkVNdmV3gle",
        "colab_type": "text"
      },
      "source": [
        "***Linear Support Vector Machines***"
      ]
    },
    {
      "cell_type": "code",
      "metadata": {
        "id": "VpsuSFuO3YNg",
        "colab_type": "code",
        "outputId": "b3934284-f894-491d-90ec-259639d33381",
        "colab": {
          "base_uri": "https://localhost:8080/",
          "height": 394
        }
      },
      "source": [
        "from sklearn.linear_model import SGDClassifier\n",
        "sgd = Pipeline([('vect', CountVectorizer()),\n",
        "               ('tfidf', TfidfTransformer()),\n",
        "               ('clf', SGDClassifier(loss='hinge', penalty='l2', alpha=1e-3,\n",
        "                                    random_state=42, max_iter=5, tol=None)),\n",
        "               ])\n",
        "sgd.fit(X_train, y_train)"
      ],
      "execution_count": 0,
      "outputs": [
        {
          "output_type": "execute_result",
          "data": {
            "text/plain": [
              "Pipeline(memory=None,\n",
              "         steps=[('vect',\n",
              "                 CountVectorizer(analyzer='word', binary=False,\n",
              "                                 decode_error='strict',\n",
              "                                 dtype=<class 'numpy.int64'>, encoding='utf-8',\n",
              "                                 input='content', lowercase=True, max_df=1.0,\n",
              "                                 max_features=None, min_df=1,\n",
              "                                 ngram_range=(1, 1), preprocessor=None,\n",
              "                                 stop_words=None, strip_accents=None,\n",
              "                                 token_pattern='(?u)\\\\b\\\\w\\\\w+\\\\b',\n",
              "                                 tokenizer=None, vocabulary=Non...\n",
              "                ('clf',\n",
              "                 SGDClassifier(alpha=0.001, average=False, class_weight=None,\n",
              "                               early_stopping=False, epsilon=0.1, eta0=0.0,\n",
              "                               fit_intercept=True, l1_ratio=0.15,\n",
              "                               learning_rate='optimal', loss='hinge',\n",
              "                               max_iter=5, n_iter_no_change=5, n_jobs=None,\n",
              "                               penalty='l2', power_t=0.5, random_state=42,\n",
              "                               shuffle=True, tol=None, validation_fraction=0.1,\n",
              "                               verbose=0, warm_start=False))],\n",
              "         verbose=False)"
            ]
          },
          "metadata": {
            "tags": []
          },
          "execution_count": 14
        }
      ]
    },
    {
      "cell_type": "code",
      "metadata": {
        "id": "QUOYu2lj5gJf",
        "colab_type": "code",
        "outputId": "e175a0ea-17cd-4707-db84-79d7efeeb14f",
        "colab": {
          "base_uri": "https://localhost:8080/",
          "height": 493
        }
      },
      "source": [
        "y_pred = sgd.predict(X_test)\n",
        "\n",
        "print(\"Accuracy %s\" % accuracy_score(y_pred, y_test))\n",
        "print(classification_report(y_test, y_pred, target_names=my_tags))"
      ],
      "execution_count": 0,
      "outputs": [
        {
          "output_type": "stream",
          "text": [
            "Accuracy 0.7836008024072216\n",
            "               precision    recall  f1-score   support\n",
            "\n",
            "         java       0.78      0.65      0.71       223\n",
            "         html       0.87      0.95      0.90       205\n",
            "      asp.net       0.92      0.97      0.94       199\n",
            "           c#       0.80      0.82      0.81       203\n",
            "ruby-on-rails       0.78      0.83      0.80       203\n",
            "       jquery       0.74      0.46      0.57       194\n",
            "        mysql       0.84      0.72      0.78       199\n",
            "          php       0.68      0.97      0.80       180\n",
            "          ios       0.76      0.43      0.55       171\n",
            "   javascript       0.69      0.58      0.63       207\n",
            "       python       0.68      0.64      0.66       211\n",
            "            c       0.84      0.81      0.82       192\n",
            "          css       0.81      0.83      0.82       224\n",
            "      android       0.85      0.82      0.84       200\n",
            "       iphone       0.79      0.83      0.81       183\n",
            "          sql       0.66      0.69      0.67       209\n",
            "  objective-c       0.73      0.88      0.80       172\n",
            "          c++       0.80      0.97      0.88       182\n",
            "    angularjs       0.83      0.96      0.89       226\n",
            "         .net       0.78      0.84      0.81       205\n",
            "\n",
            "     accuracy                           0.78      3988\n",
            "    macro avg       0.78      0.78      0.78      3988\n",
            " weighted avg       0.78      0.78      0.78      3988\n",
            "\n"
          ],
          "name": "stdout"
        }
      ]
    },
    {
      "cell_type": "markdown",
      "metadata": {
        "id": "1o_GysDq6r90",
        "colab_type": "text"
      },
      "source": [
        "***Logistic Regression***"
      ]
    },
    {
      "cell_type": "code",
      "metadata": {
        "id": "cHTFLmt96LE7",
        "colab_type": "code",
        "outputId": "44d1c4e8-9749-4243-f129-4c8e48b6fb27",
        "colab": {
          "base_uri": "https://localhost:8080/",
          "height": 479
        }
      },
      "source": [
        "from sklearn.linear_model import LogisticRegression\n",
        "\n",
        "logreg = Pipeline([('vect', CountVectorizer()),\n",
        "                  ('tfidf', TfidfTransformer()),\n",
        "                  ('clf', LogisticRegression(n_jobs=1,C=1e5)),\n",
        "                  ])\n",
        "\n",
        "logreg.fit(X_train, y_train)"
      ],
      "execution_count": 0,
      "outputs": [
        {
          "output_type": "stream",
          "text": [
            "/usr/local/lib/python3.6/dist-packages/sklearn/linear_model/logistic.py:432: FutureWarning: Default solver will be changed to 'lbfgs' in 0.22. Specify a solver to silence this warning.\n",
            "  FutureWarning)\n",
            "/usr/local/lib/python3.6/dist-packages/sklearn/linear_model/logistic.py:469: FutureWarning: Default multi_class will be changed to 'auto' in 0.22. Specify the multi_class option to silence this warning.\n",
            "  \"this warning.\", FutureWarning)\n"
          ],
          "name": "stderr"
        },
        {
          "output_type": "execute_result",
          "data": {
            "text/plain": [
              "Pipeline(memory=None,\n",
              "         steps=[('vect',\n",
              "                 CountVectorizer(analyzer='word', binary=False,\n",
              "                                 decode_error='strict',\n",
              "                                 dtype=<class 'numpy.int64'>, encoding='utf-8',\n",
              "                                 input='content', lowercase=True, max_df=1.0,\n",
              "                                 max_features=None, min_df=1,\n",
              "                                 ngram_range=(1, 1), preprocessor=None,\n",
              "                                 stop_words=None, strip_accents=None,\n",
              "                                 token_pattern='(?u)\\\\b\\\\w\\\\w+\\\\b',\n",
              "                                 tokenizer=None, vocabulary=None)),\n",
              "                ('tfidf',\n",
              "                 TfidfTransformer(norm='l2', smooth_idf=True,\n",
              "                                  sublinear_tf=False, use_idf=True)),\n",
              "                ('clf',\n",
              "                 LogisticRegression(C=100000.0, class_weight=None, dual=False,\n",
              "                                    fit_intercept=True, intercept_scaling=1,\n",
              "                                    l1_ratio=None, max_iter=100,\n",
              "                                    multi_class='warn', n_jobs=1, penalty='l2',\n",
              "                                    random_state=None, solver='warn',\n",
              "                                    tol=0.0001, verbose=0, warm_start=False))],\n",
              "         verbose=False)"
            ]
          },
          "metadata": {
            "tags": []
          },
          "execution_count": 16
        }
      ]
    },
    {
      "cell_type": "code",
      "metadata": {
        "id": "lhvBSfwM79JB",
        "colab_type": "code",
        "outputId": "38dda69b-8168-4eb3-f099-7d52ebe98a69",
        "colab": {
          "base_uri": "https://localhost:8080/",
          "height": 493
        }
      },
      "source": [
        "y_pred = logreg.predict(X_test)\n",
        "\n",
        "print(\"Accuracy %s\" % accuracy_score(y_pred, y_test))\n",
        "print(classification_report(y_test, y_pred, target_names=my_tags))"
      ],
      "execution_count": 0,
      "outputs": [
        {
          "output_type": "stream",
          "text": [
            "Accuracy 0.7662988966900702\n",
            "               precision    recall  f1-score   support\n",
            "\n",
            "         java       0.67      0.64      0.65       223\n",
            "         html       0.92      0.90      0.91       205\n",
            "      asp.net       0.95      0.96      0.96       199\n",
            "           c#       0.82      0.76      0.79       203\n",
            "ruby-on-rails       0.80      0.79      0.80       203\n",
            "       jquery       0.56      0.60      0.58       194\n",
            "        mysql       0.78      0.71      0.74       199\n",
            "          php       0.63      0.87      0.73       180\n",
            "          ios       0.62      0.61      0.62       171\n",
            "   javascript       0.63      0.62      0.62       207\n",
            "       python       0.65      0.59      0.62       211\n",
            "            c       0.85      0.74      0.79       192\n",
            "          css       0.83      0.75      0.79       224\n",
            "      android       0.85      0.82      0.84       200\n",
            "       iphone       0.78      0.78      0.78       183\n",
            "          sql       0.63      0.67      0.65       209\n",
            "  objective-c       0.76      0.82      0.79       172\n",
            "          c++       0.91      0.91      0.91       182\n",
            "    angularjs       0.96      0.95      0.96       226\n",
            "         .net       0.76      0.83      0.79       205\n",
            "\n",
            "     accuracy                           0.77      3988\n",
            "    macro avg       0.77      0.77      0.77      3988\n",
            " weighted avg       0.77      0.77      0.77      3988\n",
            "\n"
          ],
          "name": "stdout"
        }
      ]
    },
    {
      "cell_type": "markdown",
      "metadata": {
        "id": "j2gYimH4AXeO",
        "colab_type": "text"
      },
      "source": [
        "***Word2Vec and Logistics Regression***"
      ]
    },
    {
      "cell_type": "code",
      "metadata": {
        "id": "j_pUkIA08fZe",
        "colab_type": "code",
        "outputId": "7b96daf9-4718-45bc-b46d-444f7c07bda5",
        "colab": {
          "base_uri": "https://localhost:8080/",
          "height": 71
        }
      },
      "source": [
        "from gensim import models\n",
        "\n",
        "wv = models.KeyedVectors.load_word2vec_format(\n",
        "    '/content/drive/My Drive/GoogleNews-vectors-negative300.bin', binary=True)\n"
      ],
      "execution_count": 0,
      "outputs": [
        {
          "output_type": "stream",
          "text": [
            "/usr/local/lib/python3.6/dist-packages/smart_open/smart_open_lib.py:398: UserWarning: This function is deprecated, use smart_open.open instead. See the migration notes for details: https://github.com/RaRe-Technologies/smart_open/blob/master/README.rst#migrating-to-the-new-open-function\n",
            "  'See the migration notes for details: %s' % _MIGRATION_NOTES_URL\n"
          ],
          "name": "stderr"
        }
      ]
    },
    {
      "cell_type": "code",
      "metadata": {
        "id": "6_AN2PoHkRsm",
        "colab_type": "code",
        "outputId": "80a4a611-908a-4eab-88ab-f29e9d4e944e",
        "colab": {
          "base_uri": "https://localhost:8080/",
          "height": 357
        }
      },
      "source": [
        "from itertools import islice\n",
        "list(islice(wv.vocab, 13030,13050))"
      ],
      "execution_count": 0,
      "outputs": [
        {
          "output_type": "execute_result",
          "data": {
            "text/plain": [
              "['Memorial_Hospital',\n",
              " 'Seniors',\n",
              " 'memorandum',\n",
              " 'elephant',\n",
              " 'Trump',\n",
              " 'Census',\n",
              " 'pilgrims',\n",
              " 'De',\n",
              " 'Dogs',\n",
              " '###-####_ext',\n",
              " 'chaotic',\n",
              " 'forgive',\n",
              " 'scholar',\n",
              " 'Lottery',\n",
              " 'decreasing',\n",
              " 'Supervisor',\n",
              " 'fundamentally',\n",
              " 'Fitness',\n",
              " 'abundance',\n",
              " 'Hold']"
            ]
          },
          "metadata": {
            "tags": []
          },
          "execution_count": 36
        }
      ]
    },
    {
      "cell_type": "code",
      "metadata": {
        "id": "fRyBMF9jwCIB",
        "colab_type": "code",
        "colab": {}
      },
      "source": [
        "def word_averaging(wv, words):\n",
        "  all_words, mean = set(), []\n",
        "  \n",
        "  for word in words:\n",
        "    if isinstance(word,np.ndarray):\n",
        "      mean.append(word)\n",
        "    elif word in wv.vocab:\n",
        "      mean.append(wv.syn0[wv.vocab[word].index])\n",
        "      all_words.add(wv.vocab[word].index)\n",
        "  if not mean:\n",
        "    logging.warning(\"cannot compute similarity with no inputs %s\", words)\n",
        "    return np.zeros(wv.vector_size)\n",
        "  \n",
        "  mean = gensim.matutils.unitvec(np.array(mean).mean(axis=0)).astype(np.float32)\n",
        "  return mean\n",
        "\n",
        "def word_averaging_list(wv, text_list):\n",
        "  return np.vstack([word_averaging(wv, post) for post in text_list])"
      ],
      "execution_count": 0,
      "outputs": []
    },
    {
      "cell_type": "code",
      "metadata": {
        "id": "p_IasPRexT7w",
        "colab_type": "code",
        "colab": {}
      },
      "source": [
        "def w2v_tokenize_text(text):\n",
        "  tokens = []\n",
        "  for sent in nltk.sent_tokenize(text, language='english'):\n",
        "    for word in nltk.word_tokenize(sent, language='english'):\n",
        "      if len(word)< 2:\n",
        "        continue\n",
        "      tokens.append(word)\n",
        "  return tokens "
      ],
      "execution_count": 0,
      "outputs": []
    },
    {
      "cell_type": "code",
      "metadata": {
        "id": "kVtgn8Cxx8RG",
        "colab_type": "code",
        "outputId": "dc7979fc-113b-4de2-ab8e-ba3cc2d2966d",
        "colab": {
          "base_uri": "https://localhost:8080/",
          "height": 122
        }
      },
      "source": [
        "train, test = train_test_split(df, test_size=0.3, random_state=42)\n",
        "\n",
        "test_tokenized = test.apply(lambda r: w2v_tokenize_text(r['post']), axis=1).values\n",
        "train_tokenized = train.apply(lambda r: w2v_tokenize_text(r['post']), axis=1).values\n",
        "\n",
        "X_train_word_average = word_averaging_list(wv, train_tokenized)\n",
        "X_test_word_average = word_averaging_list(wv, test_tokenized)"
      ],
      "execution_count": 0,
      "outputs": [
        {
          "output_type": "stream",
          "text": [
            "/usr/local/lib/python3.6/dist-packages/ipykernel_launcher.py:8: DeprecationWarning: Call to deprecated `syn0` (Attribute will be removed in 4.0.0, use self.wv.vectors instead).\n",
            "  \n",
            "/usr/local/lib/python3.6/dist-packages/gensim/matutils.py:737: FutureWarning: Conversion of the second argument of issubdtype from `int` to `np.signedinteger` is deprecated. In future, it will be treated as `np.int64 == np.dtype(int).type`.\n",
            "  if np.issubdtype(vec.dtype, np.int):\n",
            "WARNING:root:cannot compute similarity with no inputs []\n"
          ],
          "name": "stderr"
        }
      ]
    },
    {
      "cell_type": "code",
      "metadata": {
        "id": "8FRNptQRy2sX",
        "colab_type": "code",
        "outputId": "73b47d6f-9f1e-4180-eb0d-5dcd400a4b97",
        "colab": {
          "base_uri": "https://localhost:8080/",
          "height": 581
        }
      },
      "source": [
        "from sklearn.linear_model import LogisticRegression\n",
        "logreg = LogisticRegression(n_jobs=1, C=1e5)\n",
        "logreg = logreg.fit(X_train_word_average, train['tags'])\n",
        "y_pred = logreg.predict(X_test_word_average)\n",
        "print('accuracy %s' %accuracy_score(y_pred, test.tags))\n",
        "print(classification_report(test.tags, y_pred, target_names=my_tags))"
      ],
      "execution_count": 0,
      "outputs": [
        {
          "output_type": "stream",
          "text": [
            "/usr/local/lib/python3.6/dist-packages/sklearn/linear_model/logistic.py:432: FutureWarning: Default solver will be changed to 'lbfgs' in 0.22. Specify a solver to silence this warning.\n",
            "  FutureWarning)\n",
            "/usr/local/lib/python3.6/dist-packages/sklearn/linear_model/logistic.py:469: FutureWarning: Default multi_class will be changed to 'auto' in 0.22. Specify the multi_class option to silence this warning.\n",
            "  \"this warning.\", FutureWarning)\n"
          ],
          "name": "stderr"
        },
        {
          "output_type": "stream",
          "text": [
            "accuracy 0.6241223671013039\n",
            "               precision    recall  f1-score   support\n",
            "\n",
            "         java       0.57      0.54      0.56       223\n",
            "         html       0.71      0.76      0.73       205\n",
            "      asp.net       0.72      0.79      0.75       199\n",
            "           c#       0.69      0.65      0.67       203\n",
            "ruby-on-rails       0.72      0.70      0.71       203\n",
            "       jquery       0.41      0.39      0.40       194\n",
            "        mysql       0.63      0.60      0.62       199\n",
            "          php       0.68      0.77      0.72       180\n",
            "          ios       0.49      0.49      0.49       171\n",
            "   javascript       0.47      0.48      0.48       207\n",
            "       python       0.49      0.48      0.49       211\n",
            "            c       0.61      0.57      0.59       192\n",
            "          css       0.72      0.62      0.67       224\n",
            "      android       0.51      0.57      0.54       200\n",
            "       iphone       0.67      0.75      0.71       183\n",
            "          sql       0.49      0.47      0.48       209\n",
            "  objective-c       0.59      0.68      0.63       172\n",
            "          c++       0.80      0.79      0.80       182\n",
            "    angularjs       0.79      0.79      0.79       226\n",
            "         .net       0.69      0.61      0.65       205\n",
            "\n",
            "     accuracy                           0.62      3988\n",
            "    macro avg       0.62      0.63      0.62      3988\n",
            " weighted avg       0.62      0.62      0.62      3988\n",
            "\n"
          ],
          "name": "stdout"
        }
      ]
    },
    {
      "cell_type": "markdown",
      "metadata": {
        "id": "XuCeiz2gAd9W",
        "colab_type": "text"
      },
      "source": [
        "***Doc2Vec And Logistic Regression***"
      ]
    },
    {
      "cell_type": "code",
      "metadata": {
        "id": "XG2gxBYu070X",
        "colab_type": "code",
        "colab": {}
      },
      "source": [
        "from tqdm import tqdm\n",
        "tqdm.pandas(desc=\"progress-bar\")\n",
        "from gensim.models import Doc2Vec\n",
        "from sklearn import utils\n",
        "import gensim\n",
        "from gensim.models.doc2vec import TaggedDocument\n",
        "import re\n",
        "\n",
        "def label_sentences(corpus, label_type):\n",
        "    labeled = []\n",
        "    for i, v in enumerate(corpus):\n",
        "        label = label_type + '_' + str(i)\n",
        "        labeled.append(TaggedDocument(v.split(), [label]))\n",
        "    return labeled\n",
        "X_train, X_test, y_train, y_test = train_test_split(df.post, df.tags, random_state=0, test_size=0.3)\n",
        "X_train = label_sentences(X_train, 'Train')\n",
        "X_test = label_sentences(X_test, 'Test')\n",
        "all_data = X_train + X_test"
      ],
      "execution_count": 0,
      "outputs": []
    },
    {
      "cell_type": "code",
      "metadata": {
        "id": "BIbU8uBY5TY4",
        "colab_type": "code",
        "outputId": "c9e8acd0-30b1-4df1-ab24-12a0d3f5a1d3",
        "colab": {
          "base_uri": "https://localhost:8080/",
          "height": 71
        }
      },
      "source": [
        "all_data[:2]"
      ],
      "execution_count": 0,
      "outputs": [
        {
          "output_type": "execute_result",
          "data": {
            "text/plain": [
              "[TaggedDocument(words=['trace', 'net', 'code', 'deployed', 'remote', 'server', 'hii', 'deployed', 'application', 'remote', 'server', 'error', 'occures', 'runs', 'server', 'need', 'trace', 'server', 'side', 'code', 'vs', 'net', 'server', 'client', 'machine', 'way', 'trace', 'code', 'client'], tags=['Train_0']),\n",
              " TaggedDocument(words=['get', 'many', 'sattelites', 'view', 'android', '2', '1', 'sdk', 'get', 'count', 'satellites', 'android', '2', '1', 'ever', 'using', 'loction', 'getextras', 'getint', 'satellites', 'app', 'automatically', 'closed', 'please', 'one', 'help', 'resolve', 'one', 'thing', 'android', '1', '5', 'working', 'fine'], tags=['Train_1'])]"
            ]
          },
          "metadata": {
            "tags": []
          },
          "execution_count": 65
        }
      ]
    },
    {
      "cell_type": "code",
      "metadata": {
        "id": "eNlT9tyj7uy7",
        "colab_type": "code",
        "outputId": "d52940a7-4940-437d-a4e1-da2ebace125d",
        "colab": {
          "base_uri": "https://localhost:8080/",
          "height": 544
        }
      },
      "source": [
        "model_dbow = Doc2Vec(dm=0, vector_size=300, negative=5, min_count=1, alpha=0.065, min_alpha=0.065)\n",
        "model_dbow.build_vocab([x for x in tqdm(all_data)])\n",
        "\n",
        "for epochs in range(30):\n",
        "  model_dbow.train(utils.shuffle([x for x in tqdm(all_data)]), total_examples=len(all_data), epochs=1)\n",
        "  model_dbow.alpha -= 0.002\n",
        "  model_dbow.min_alpha = model_dbow.alpha"
      ],
      "execution_count": 0,
      "outputs": [
        {
          "output_type": "stream",
          "text": [
            "100%|██████████| 13292/13292 [00:00<00:00, 1175455.71it/s]\n",
            "100%|██████████| 13292/13292 [00:00<00:00, 2155865.77it/s]\n",
            "100%|██████████| 13292/13292 [00:00<00:00, 1794819.68it/s]\n",
            "100%|██████████| 13292/13292 [00:00<00:00, 2363118.38it/s]\n",
            "100%|██████████| 13292/13292 [00:00<00:00, 2336477.46it/s]\n",
            "100%|██████████| 13292/13292 [00:00<00:00, 2365825.96it/s]\n",
            "100%|██████████| 13292/13292 [00:00<00:00, 2471985.49it/s]\n",
            "100%|██████████| 13292/13292 [00:00<00:00, 2459553.04it/s]\n",
            "100%|██████████| 13292/13292 [00:00<00:00, 2448857.45it/s]\n",
            "100%|██████████| 13292/13292 [00:00<00:00, 2274888.35it/s]\n",
            "100%|██████████| 13292/13292 [00:00<00:00, 1756591.11it/s]\n",
            "100%|██████████| 13292/13292 [00:00<00:00, 2397569.72it/s]\n",
            "100%|██████████| 13292/13292 [00:00<00:00, 2280191.77it/s]\n",
            "100%|██████████| 13292/13292 [00:00<00:00, 2283086.48it/s]\n",
            "100%|██████████| 13292/13292 [00:00<00:00, 2313978.70it/s]\n",
            "100%|██████████| 13292/13292 [00:00<00:00, 2367332.86it/s]\n",
            "100%|██████████| 13292/13292 [00:00<00:00, 2444133.66it/s]\n",
            "100%|██████████| 13292/13292 [00:00<00:00, 2402425.61it/s]\n",
            "100%|██████████| 13292/13292 [00:00<00:00, 2463356.70it/s]\n",
            "100%|██████████| 13292/13292 [00:00<00:00, 1450179.19it/s]\n",
            "100%|██████████| 13292/13292 [00:00<00:00, 2439428.05it/s]\n",
            "100%|██████████| 13292/13292 [00:00<00:00, 2489203.41it/s]\n",
            "100%|██████████| 13292/13292 [00:00<00:00, 2393247.00it/s]\n",
            "100%|██████████| 13292/13292 [00:00<00:00, 2292003.32it/s]\n",
            "100%|██████████| 13292/13292 [00:00<00:00, 1294510.62it/s]\n",
            "100%|██████████| 13292/13292 [00:00<00:00, 2407405.16it/s]\n",
            "100%|██████████| 13292/13292 [00:00<00:00, 2472862.66it/s]\n",
            "100%|██████████| 13292/13292 [00:00<00:00, 2528146.60it/s]\n",
            "100%|██████████| 13292/13292 [00:00<00:00, 2446815.39it/s]\n",
            "100%|██████████| 13292/13292 [00:00<00:00, 2434740.53it/s]\n",
            "100%|██████████| 13292/13292 [00:00<00:00, 2357223.32it/s]\n"
          ],
          "name": "stderr"
        }
      ]
    },
    {
      "cell_type": "code",
      "metadata": {
        "id": "2dROX2LO82sE",
        "colab_type": "code",
        "colab": {}
      },
      "source": [
        "def get_vectors(model, corpus_size, vectors_size, vectors_type):\n",
        "  vectors = np.zeros((corpus_size, vectors_size))\n",
        "  for i in range(0, corpus_size):\n",
        "    prefix = vectors_type + '_' + str(i)\n",
        "    vectors[i] = model.docvecs[prefix]\n",
        "  return vectors\n",
        "\n",
        "train_vectors_dbow = get_vectors(model_dbow, len(X_train), 300, 'Train')\n",
        "test_vectors_dbow = get_vectors(model_dbow, len(X_test), 300, 'Test')"
      ],
      "execution_count": 0,
      "outputs": []
    },
    {
      "cell_type": "code",
      "metadata": {
        "id": "OicdFKQD-pI_",
        "colab_type": "code",
        "outputId": "4b3d9b65-1e6a-4701-89a3-5dec5f1c59b0",
        "colab": {
          "base_uri": "https://localhost:8080/",
          "height": 649
        }
      },
      "source": [
        "logreg = LogisticRegression(n_jobs=1, C=1e5)\n",
        "logreg.fit(train_vectors_dbow, y_train)\n",
        "logreg = logreg.fit(train_vectors_dbow, y_train)\n",
        "y_pred = logreg.predict(test_vectors_dbow)\n",
        "print('accuracy %s' % accuracy_score(y_pred, y_test))\n",
        "print(classification_report(y_test, y_pred,target_names=my_tags))"
      ],
      "execution_count": 0,
      "outputs": [
        {
          "output_type": "stream",
          "text": [
            "/usr/local/lib/python3.6/dist-packages/sklearn/linear_model/logistic.py:432: FutureWarning: Default solver will be changed to 'lbfgs' in 0.22. Specify a solver to silence this warning.\n",
            "  FutureWarning)\n",
            "/usr/local/lib/python3.6/dist-packages/sklearn/linear_model/logistic.py:469: FutureWarning: Default multi_class will be changed to 'auto' in 0.22. Specify the multi_class option to silence this warning.\n",
            "  \"this warning.\", FutureWarning)\n",
            "/usr/local/lib/python3.6/dist-packages/sklearn/linear_model/logistic.py:432: FutureWarning: Default solver will be changed to 'lbfgs' in 0.22. Specify a solver to silence this warning.\n",
            "  FutureWarning)\n",
            "/usr/local/lib/python3.6/dist-packages/sklearn/linear_model/logistic.py:469: FutureWarning: Default multi_class will be changed to 'auto' in 0.22. Specify the multi_class option to silence this warning.\n",
            "  \"this warning.\", FutureWarning)\n"
          ],
          "name": "stderr"
        },
        {
          "output_type": "stream",
          "text": [
            "accuracy 0.7033600802407222\n",
            "               precision    recall  f1-score   support\n",
            "\n",
            "         java       0.53      0.58      0.55       208\n",
            "         html       0.77      0.75      0.76       192\n",
            "      asp.net       0.92      0.89      0.91       197\n",
            "           c#       0.72      0.64      0.68       209\n",
            "ruby-on-rails       0.68      0.70      0.69       181\n",
            "       jquery       0.62      0.59      0.61       204\n",
            "        mysql       0.76      0.72      0.74       214\n",
            "          php       0.69      0.72      0.70       209\n",
            "          ios       0.50      0.62      0.55       180\n",
            "   javascript       0.62      0.54      0.58       203\n",
            "       python       0.58      0.59      0.58       192\n",
            "            c       0.75      0.80      0.77       197\n",
            "          css       0.74      0.73      0.73       197\n",
            "      android       0.80      0.72      0.76       196\n",
            "       iphone       0.76      0.76      0.76       207\n",
            "          sql       0.63      0.64      0.63       212\n",
            "  objective-c       0.79      0.75      0.77       212\n",
            "          c++       0.65      0.75      0.70       191\n",
            "    angularjs       0.93      0.87      0.90       209\n",
            "         .net       0.69      0.73      0.71       178\n",
            "\n",
            "     accuracy                           0.70      3988\n",
            "    macro avg       0.71      0.70      0.70      3988\n",
            " weighted avg       0.71      0.70      0.70      3988\n",
            "\n"
          ],
          "name": "stdout"
        }
      ]
    },
    {
      "cell_type": "markdown",
      "metadata": {
        "id": "0YgbcLc9AkRA",
        "colab_type": "text"
      },
      "source": [
        "***BOW with Keras***"
      ]
    },
    {
      "cell_type": "code",
      "metadata": {
        "id": "9bjQZPRn-_4w",
        "colab_type": "code",
        "colab": {}
      },
      "source": [
        "import itertools\n",
        "import os\n",
        "\n",
        "import tensorflow as tf\n",
        "\n",
        "from sklearn.preprocessing import LabelBinarizer, LabelEncoder\n",
        "from sklearn.metrics import confusion_matrix\n",
        "\n",
        "from tensorflow import keras\n",
        "from keras.models import Sequential\n",
        "from keras.layers import Dense, Activation, Dropout\n",
        "from keras.preprocessing import text, sequence\n",
        "from keras import utils"
      ],
      "execution_count": 0,
      "outputs": []
    },
    {
      "cell_type": "code",
      "metadata": {
        "id": "7_iX3zttzTnc",
        "colab_type": "code",
        "colab": {}
      },
      "source": [
        "train_size = int(len(df) * .7)\n",
        "train_posts = df['post'][:train_size]\n",
        "train_tags = df['tags'][:train_size]"
      ],
      "execution_count": 0,
      "outputs": []
    },
    {
      "cell_type": "code",
      "metadata": {
        "id": "5YZpHv7T0rdb",
        "colab_type": "code",
        "colab": {}
      },
      "source": [
        "test_posts = df['post'][train_size:]\n",
        "test_tags = df['tags'][train_size:]"
      ],
      "execution_count": 0,
      "outputs": []
    },
    {
      "cell_type": "code",
      "metadata": {
        "id": "IY8ISZ0F07z-",
        "colab_type": "code",
        "colab": {}
      },
      "source": [
        "max_words = 1000\n",
        "tokenize = text.Tokenizer(num_words=max_words, char_level=False)\n",
        "tokenize.fit_on_texts(train_posts) "
      ],
      "execution_count": 0,
      "outputs": []
    },
    {
      "cell_type": "code",
      "metadata": {
        "id": "GT-VfojX1SDb",
        "colab_type": "code",
        "colab": {}
      },
      "source": [
        "x_train = tokenize.texts_to_matrix(train_posts)\n",
        "x_test = tokenize.texts_to_matrix(test_posts)"
      ],
      "execution_count": 0,
      "outputs": []
    },
    {
      "cell_type": "code",
      "metadata": {
        "id": "arnIJDIm2qoy",
        "colab_type": "code",
        "colab": {}
      },
      "source": [
        "encoder = LabelEncoder()\n",
        "encoder.fit(train_tags)\n",
        "y_train = encoder.transform(train_tags)\n",
        "y_test = encoder.transform(test_tags)"
      ],
      "execution_count": 0,
      "outputs": []
    },
    {
      "cell_type": "code",
      "metadata": {
        "id": "klIoJpTh3y7c",
        "colab_type": "code",
        "colab": {}
      },
      "source": [
        "num_classes = np.max(y_train) + 1\n",
        "y_train = utils.to_categorical(y_train, num_classes)\n",
        "y_test = utils.to_categorical(y_test, num_classes)"
      ],
      "execution_count": 0,
      "outputs": []
    },
    {
      "cell_type": "code",
      "metadata": {
        "id": "D127CR6cAgVF",
        "colab_type": "code",
        "colab": {}
      },
      "source": [
        "model = Sequential()\n",
        "model.add(Dense(512, input_shape=(max_words,)))\n",
        "model.add(Activation('relu'))\n",
        "model.add(Dropout(0.5))\n",
        "model.add(Dense(num_classes))\n",
        "model.add(Activation('softmax'))"
      ],
      "execution_count": 0,
      "outputs": []
    },
    {
      "cell_type": "code",
      "metadata": {
        "id": "bWgbIbNABAxA",
        "colab_type": "code",
        "colab": {}
      },
      "source": [
        "model.compile(loss='categorical_crossentropy',\n",
        "             optimizer='adam',\n",
        "             metrics=['accuracy'])"
      ],
      "execution_count": 0,
      "outputs": []
    },
    {
      "cell_type": "code",
      "metadata": {
        "id": "8Z85codIBS1f",
        "colab_type": "code",
        "colab": {
          "base_uri": "https://localhost:8080/",
          "height": 156
        },
        "outputId": "d1d570ca-d06d-4539-fc93-18c92c68de44"
      },
      "source": [
        "history = model.fit(x_train, y_train, batch_size=32, epochs=3,\n",
        "                   verbose=1, validation_split=0.1)"
      ],
      "execution_count": 58,
      "outputs": [
        {
          "output_type": "stream",
          "text": [
            "Train on 25200 samples, validate on 2800 samples\n",
            "Epoch 1/3\n",
            "25200/25200 [==============================] - 10s 381us/step - loss: 0.9793 - acc: 0.7263 - val_loss: 0.6331 - val_acc: 0.8129\n",
            "Epoch 2/3\n",
            "25200/25200 [==============================] - 9s 370us/step - loss: 0.5353 - acc: 0.8301 - val_loss: 0.6099 - val_acc: 0.8146\n",
            "Epoch 3/3\n",
            "25200/25200 [==============================] - 9s 367us/step - loss: 0.4399 - acc: 0.8567 - val_loss: 0.6098 - val_acc: 0.8121\n"
          ],
          "name": "stdout"
        }
      ]
    },
    {
      "cell_type": "code",
      "metadata": {
        "id": "NB4nMCYyByZv",
        "colab_type": "code",
        "colab": {
          "base_uri": "https://localhost:8080/",
          "height": 51
        },
        "outputId": "d734e7de-4fdf-4c00-d497-ed9347e6748e"
      },
      "source": [
        "score = model.evaluate(x_test, y_test, batch_size=32, verbose=1)\n",
        "print('Test accuracy:', score[1])"
      ],
      "execution_count": 59,
      "outputs": [
        {
          "output_type": "stream",
          "text": [
            "12000/12000 [==============================] - 1s 66us/step\n",
            "Test accuracy: 0.8046666666666666\n"
          ],
          "name": "stdout"
        }
      ]
    },
    {
      "cell_type": "code",
      "metadata": {
        "id": "Ojx3bHBjCADp",
        "colab_type": "code",
        "colab": {}
      },
      "source": [
        ""
      ],
      "execution_count": 0,
      "outputs": []
    }
  ]
}